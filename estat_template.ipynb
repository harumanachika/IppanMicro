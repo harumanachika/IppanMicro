{
  "cells": [
    {
      "cell_type": "code",
      "execution_count": 4,
      "metadata": {
        "id": "4JGuIQ_tjzD3"
      },
      "outputs": [],
      "source": [
        "from math import *\n",
        "#from fractions import Fraction\n",
        "#import math\n",
        "from sympy import *\n",
        "import numpy as np\n",
        "#import matplotlib.pyplot as plt\n",
        "#import numpy.linalg as linalg\n",
        "#import scipy.linalg as linalg\n",
        "#from vpython import *\n",
        "#from random import *\n",
        "#from copy import *\n",
        "import pandas as pd\n",
        "import urllib\n",
        "import json\n",
        "\n",
        "#!pip install estat\n",
        "import estat"
      ]
    },
    {
      "cell_type": "code",
      "execution_count": 5,
      "metadata": {
        "id": "CdHbpiThjzD8"
      },
      "outputs": [],
      "source": [
        "appID = \"fc2ff3fe1cae053a36e492cc55a6f6953089f602\"\n",
        "#estat.download()"
      ]
    }
  ],
  "metadata": {
    "kernelspec": {
      "display_name": "Python 3",
      "language": "python",
      "name": "python3"
    },
    "language_info": {
      "codemirror_mode": {
        "name": "ipython",
        "version": 3
      },
      "file_extension": ".py",
      "mimetype": "text/x-python",
      "name": "python",
      "nbconvert_exporter": "python",
      "pygments_lexer": "ipython3",
      "version": "3.6.6+"
    },
    "colab": {
      "provenance": []
    }
  },
  "nbformat": 4,
  "nbformat_minor": 0
}